{
 "cells": [
  {
   "cell_type": "code",
   "execution_count": 1,
   "metadata": {},
   "outputs": [],
   "source": [
    "import numpy as np\n",
    "import matplotlib.pyplot as plt\n",
    "from sklearn.gaussian_process.kernels import RBF, WhiteKernel\n",
    "import itertools"
   ]
  },
  {
   "cell_type": "code",
   "execution_count": 2,
   "metadata": {},
   "outputs": [
    {
     "name": "stdout",
     "output_type": "stream",
     "text": [
      "['fileNum', 'lat', 'long', 'sigma']\n",
      "[5.28443648e-02 6.13502375e-02 5.34343193e-02 6.85286198e-02\n",
      " 7.19274385e-02 7.16362182e-02 5.08778867e-02 6.33788159e-02\n",
      " 6.02589388e-02 7.06675310e-02 5.29353928e-02 5.25594348e-02\n",
      " 5.16743650e-02 5.46815924e-02 5.21462778e-02 5.15462311e-02\n",
      " 6.93157547e-02 7.09059356e-02 6.00617651e-02 5.73547132e-02\n",
      " 5.35333708e-02 6.46941700e-02 6.89184057e-02 6.77747121e-02\n",
      " 6.13846441e-02 6.77875346e-02 6.42054439e-02 6.24337445e-02\n",
      " 6.40302347e-02 6.17160094e-02 6.46266938e-02 6.59907438e-02\n",
      " 6.29588437e-02 6.35271129e-02 6.39210435e-02 5.91914316e-02\n",
      " 6.38150272e-02 6.37101116e-02 7.28058108e-02 6.32142942e-02\n",
      " 6.42334000e-02 6.22394738e-02 6.45263282e-02 6.92094026e-02\n",
      " 7.23312641e-02 6.67383310e-02 4.98357609e-02 5.55354285e-02\n",
      " 5.70577047e-02 5.72246362e-02 6.51755140e-02 6.66377518e-02\n",
      " 5.21129148e-02 5.74221781e-02 7.05201102e-02 6.87716065e-02\n",
      " 6.90001398e-02 4.89818038e-02 6.99315893e-02 7.00115955e-02\n",
      " 5.65524994e-02 5.75759880e-02 4.91759366e-02 6.86316232e-02\n",
      " 6.84073614e-02 5.67409685e-02 5.58499223e-02 5.65489809e-02\n",
      " 5.40751863e-02 7.06026242e-02 6.38220972e-02 6.20231408e-02\n",
      " 6.22773053e-02 6.19327833e-02 6.79718217e-02 6.70218364e-02\n",
      " 6.23108148e-02 6.27881321e-02 6.30170146e-02 5.88902879e-02\n",
      " 6.26634175e-02 6.21097570e-02 7.21648209e-02 6.33868202e-02\n",
      " 6.75127765e-02 6.23905484e-02 6.31280253e-02 7.03557017e-02\n",
      " 7.16807484e-02 6.67064571e-02 6.14610037e-02 5.25353971e-02\n",
      " 5.97314230e-02 6.01619156e-02 5.75792606e-02 5.97365038e-02\n",
      " 4.79549964e-02 6.04635629e-02 5.96213492e-02 5.90353052e-02\n",
      " 5.89918711e-02 6.17834834e-02 5.92366244e-02 5.95201509e-02\n",
      " 5.55731223e-02 6.11403320e-02 4.80033634e-02 5.88250388e-02\n",
      " 5.93274128e-02 5.71905132e-02 5.60255272e-02 5.93349251e-02\n",
      " 5.79921057e-02 5.71883562e-02 5.80863500e-02 5.79916151e-02\n",
      " 5.77443050e-02 6.59422379e-02 7.07056151e-02 5.75068383e-02\n",
      " 5.80306803e-02 7.24725217e-02 7.21165623e-02 7.17730126e-02\n",
      " 6.21307558e-02 7.19252456e-02 1.92667979e-05 5.69165230e-02\n",
      " 5.83818369e-02 5.57029181e-02 7.23832658e-02 6.99703699e-02\n",
      " 5.70904873e-02 5.59226401e-02 5.67723898e-02 6.23558590e-02\n",
      " 5.60813160e-02 6.27877011e-02 6.24000724e-02 5.19385133e-02\n",
      " 6.07887604e-02 5.38463347e-04 6.40965053e-02 5.08730617e-02\n",
      " 5.05395110e-02 5.02487118e-02 6.60796806e-02 5.11961944e-02\n",
      " 5.21017936e-02 6.38691283e-02 6.31600401e-02 5.30852154e-02\n",
      " 4.86035540e-02 5.15302176e-02 6.14851399e-02 6.36792603e-02\n",
      " 6.32065600e-02 6.71036064e-02 5.93802563e-02 5.73225168e-02\n",
      " 5.60935097e-02 5.38001047e-02 3.20858565e-02 5.87834732e-02\n",
      " 5.83086393e-02 5.36164259e-02 3.95898747e-02 5.42028272e-02\n",
      " 5.29134926e-02 5.34730536e-02 5.30036619e-02 6.03860857e-02\n",
      " 5.67181639e-02 5.98502564e-02 5.43032800e-02 5.34816881e-02\n",
      " 6.01224240e-02 6.10410066e-02 5.77913600e-02 6.30205658e-02\n",
      " 6.57168240e-02 6.48510078e-02 6.41596878e-02 5.77507862e-02\n",
      " 1.64208849e-03 6.36010634e-02 6.86736743e-02 5.92566807e-02\n",
      " 1.92114296e-03 3.04352738e-03 7.12335120e-02 5.88248124e-02\n",
      " 5.76840596e-02 6.75170722e-02 6.50307427e-02 6.38673748e-02\n",
      " 1.22401926e-03 5.89266884e-02 6.73672661e-02 6.74021412e-02\n",
      " 6.57869037e-02 6.70863719e-02 5.38386595e-02 6.17995709e-02\n",
      " 6.08637077e-02 5.26028558e-02 5.85612928e-02 5.02405415e-02\n",
      " 6.37086429e-02 5.06679131e-02 4.92473280e-02 5.00800829e-02\n",
      " 6.71920504e-02 5.09895659e-02 5.19539444e-02 6.26876804e-02\n",
      " 6.14675766e-02 5.04583024e-02 4.75861502e-02 5.13435408e-02\n",
      " 6.04012936e-02 6.29142328e-02 6.29095413e-02 5.58350974e-02\n",
      " 7.05793863e-02 5.91783555e-02 6.90046332e-02 6.73269527e-02\n",
      " 5.11220386e-02 6.27861289e-02 5.51042636e-02 6.83355889e-02\n",
      " 5.22756460e-02 5.31252926e-02 5.22223640e-02 7.13479405e-02\n",
      " 5.24260920e-02 5.24096983e-02 6.61598379e-02 6.78913970e-02\n",
      " 5.54676138e-02 5.46534116e-02 5.26975858e-02 6.37404923e-02\n",
      " 6.56679033e-02 6.62973233e-02 6.08825862e-02 5.67920848e-02\n",
      " 5.98428533e-02 4.34930927e-02 6.05206964e-02 6.20362374e-02\n",
      " 5.24558058e-02 6.13884293e-02 6.26581287e-02 6.15205982e-02\n",
      " 6.14536678e-02 6.24479270e-02 6.28575018e-02 6.00069202e-02\n",
      " 6.11757243e-02 5.05395789e-02 6.24977113e-02 6.04779382e-02\n",
      " 6.00706510e-02 5.97441686e-02 5.07958053e-02 5.53965382e-02\n",
      " 5.65075791e-02 5.65712332e-02 3.36205133e-02 6.62405768e-02\n",
      " 5.21241338e-02 5.70989372e-02 7.13580895e-02 6.87757860e-02\n",
      " 6.75353801e-02 7.05189005e-02 7.04744199e-02 5.63817334e-02\n",
      " 5.69526549e-02 5.00901361e-02 6.85193655e-02 6.89222461e-02\n",
      " 5.65662178e-02 5.57462570e-02 5.62551266e-02 7.03010129e-02\n",
      " 6.46852844e-02 2.72780484e-03 3.57811950e-03 5.19313673e-02\n",
      " 5.61817647e-02 6.32308571e-02 6.33772924e-02 5.25795609e-02\n",
      " 5.29004687e-02 5.34205740e-02 6.15403681e-02 5.16403459e-02\n",
      " 6.60869162e-02 4.11262858e-03 6.38568566e-02 5.41262949e-02\n",
      " 5.25014999e-02 6.61728808e-02 6.61672257e-02 6.21253937e-02\n",
      " 6.03085796e-02 5.55936189e-02 5.68725098e-02 5.70128361e-02\n",
      " 6.55783563e-02 6.66723377e-02 5.22108563e-02 5.75628435e-02\n",
      " 7.09665470e-02 6.87990948e-02 6.17721647e-02 7.03479173e-02\n",
      " 7.04314530e-02 5.64541651e-02 5.75330496e-02 4.94861870e-02\n",
      " 6.87136982e-02 6.88590894e-02 5.67284259e-02 5.58492110e-02\n",
      " 5.65335033e-02 5.98096244e-02 5.62035307e-02 5.70753571e-02\n",
      " 5.72626432e-02 6.56206680e-02 6.71422238e-02 5.28790331e-02\n",
      " 5.76758039e-02 7.12385051e-02 6.91259804e-02 6.92782153e-02\n",
      " 4.94313788e-02 7.06393095e-02 7.03035613e-02 5.66264234e-02\n",
      " 5.79339427e-02 4.99414120e-02 6.89184202e-02 6.89904030e-02\n",
      " 5.68392364e-02 5.58917636e-02 5.66756821e-02 6.28186664e-02\n",
      " 5.77300342e-02 5.75265231e-02 5.72338408e-02 6.64835544e-02\n",
      " 6.92465288e-02 5.58485591e-02 5.76115700e-02 7.21807844e-02\n",
      " 7.12432490e-02 7.13095265e-02 5.31006017e-02 7.15635069e-02\n",
      " 7.12113709e-02 5.67878397e-02 5.78768605e-02 3.34197263e-03\n",
      " 7.11715308e-02 6.98399064e-02 5.68613031e-02 5.61258611e-02\n",
      " 5.65649821e-02 5.03379966e-02 5.67774481e-02 5.93846357e-02\n",
      " 5.96623355e-02 5.89251318e-02 6.06689004e-02 5.24354635e-02\n",
      " 6.12745449e-02 6.09136515e-02 6.02272674e-02 6.00544186e-02\n",
      " 5.23611807e-02 6.06770694e-02 6.11638609e-02 5.96669040e-02\n",
      " 6.11799807e-02 5.09847761e-02 3.62742464e-02 6.07542592e-02\n",
      " 6.04806723e-02 5.98081746e-02 6.08312592e-02]\n"
     ]
    }
   ],
   "source": [
    "# Load Parameters fitted using real data\n",
    "npzfile = np.load(\"Data2/param_ard_data2.npz\")\n",
    "\n",
    "# print out the keys of this file\n",
    "print(sorted(npzfile.files))\n",
    "\n",
    "print(npzfile['lat'])"
   ]
  },
  {
   "cell_type": "code",
   "execution_count": 3,
   "metadata": {},
   "outputs": [],
   "source": [
    "# create [0,1] x [0, 1] box of n_x * n_y\n",
    "def generate_zero_one_box(n_x,n_y):\n",
    "    x_grid, y_grid = np.mgrid[0:1:complex(n_x),0:1:complex(n_y)]\n",
    "    data = np.vstack([x_grid.ravel(), y_grid.ravel()])\n",
    "    return data.T"
   ]
  },
  {
   "cell_type": "code",
   "execution_count": 4,
   "metadata": {},
   "outputs": [],
   "source": [
    "# create RBF anisotropic kernel\n",
    "def create_GP_kernel(length_array, sigma):\n",
    "    return (sigma**2)*RBF(length_array) #+ WhiteKernel(noise_level=1e-06)"
   ]
  },
  {
   "cell_type": "code",
   "execution_count": 5,
   "metadata": {},
   "outputs": [],
   "source": [
    "# sample from a kernel on Nx * Ny 2d grid\n",
    "def get_sample(input_data, kernel, sample_size, n_x,n_y):\n",
    "    cov_mat = kernel(input_data)\n",
    "    sample = np.random.multivariate_normal(np.zeros(cov_mat.shape[0]), cov_mat, size=sample_size)\n",
    "    sample = sample.reshape((sample_size, n_x, n_y))\n",
    "    return sample"
   ]
  },
  {
   "cell_type": "code",
   "execution_count": 6,
   "metadata": {},
   "outputs": [],
   "source": [
    "# convert 2d array to RGB by normalizing and applying a colormap\n",
    "def gp_data_to_RGB(gp_data, cmap, normalizer):\n",
    "    norm_data = normalizer(gp_data)\n",
    "    return cmap(norm_data)"
   ]
  },
  {
   "cell_type": "code",
   "execution_count": 7,
   "metadata": {},
   "outputs": [
    {
     "name": "stdout",
     "output_type": "stream",
     "text": [
      "(395, 3)\n"
     ]
    }
   ],
   "source": [
    "#Sample from the parameter list by fitting (log) uniform in length paramters and uniform in sigma\n",
    "num_sam = 10\n",
    "# get bounds\n",
    "lat_min = round(min(np.log(npzfile['lat'])),2)\n",
    "lat_max = round(max(np.log(npzfile['lat'])), 2)\n",
    "\n",
    "long_min = round(min(np.log(npzfile['long'])),2)\n",
    "long_max = round(max(np.log(npzfile['long'])), 2)\n",
    "\n",
    "sigma_min = round(min(npzfile['sigma']), 2)\n",
    "sigma_max = round(max(npzfile['sigma']),2)\n",
    "\n",
    "log_lat = np.log(npzfile['lat'])\n",
    "log_long = np.log(npzfile['long'])\n",
    "sigma = npzfile['sigma']\n",
    "\n",
    "param_list = np.vstack((log_lat, log_long, sigma)).T\n",
    "\n",
    "# take \"product\" to form the paramter list\n",
    "print(np.shape(param_list))"
   ]
  },
  {
   "cell_type": "code",
   "execution_count": 8,
   "metadata": {},
   "outputs": [
    {
     "name": "stdout",
     "output_type": "stream",
     "text": [
      "395\n",
      "395\n"
     ]
    }
   ],
   "source": [
    "# get input data  (N, C, H, W)\n",
    "# get input raw data (N, H, W)\n",
    "# get labels data (N, 3)\n",
    "\n",
    "# Here N = number of paramters x number of GP samples for each parameter\n",
    "gp_sample_size = 1\n",
    "param_size = param_list.shape[0]\n",
    "print(param_size)\n",
    "N = gp_sample_size * param_size\n",
    "print(N)"
   ]
  },
  {
   "cell_type": "code",
   "execution_count": 9,
   "metadata": {},
   "outputs": [
    {
     "data": {
      "text/plain": [
       "array([0.05284436, 0.1004798 ])"
      ]
     },
     "execution_count": 9,
     "metadata": {},
     "output_type": "execute_result"
    }
   ],
   "source": [
    "p = param_list[0]\n",
    "np.exp(p[0:-1])"
   ]
  },
  {
   "cell_type": "code",
   "execution_count": 10,
   "metadata": {},
   "outputs": [
    {
     "data": {
      "text/plain": [
       "0.6960768006677321"
      ]
     },
     "execution_count": 10,
     "metadata": {},
     "output_type": "execute_result"
    }
   ],
   "source": [
    "p[-1]"
   ]
  },
  {
   "cell_type": "code",
   "execution_count": 11,
   "metadata": {},
   "outputs": [
    {
     "data": {
      "text/plain": [
       "array([-1.27700132, -0.99792122])"
      ]
     },
     "execution_count": 11,
     "metadata": {},
     "output_type": "execute_result"
    }
   ],
   "source": [
    "np.log10(np.exp(p[0:-1]))"
   ]
  },
  {
   "cell_type": "code",
   "execution_count": 12,
   "metadata": {},
   "outputs": [],
   "source": [
    "rgb_data = []\n",
    "label_data =[]\n",
    "input_raw = []\n",
    "\n",
    "# create [0,1] x [0,1] box\n",
    "nx = 32\n",
    "ny = 32\n",
    "\n",
    "input_data = generate_zero_one_box(nx, ny)\n",
    "\n",
    "norm = plt.Normalize()\n",
    "cmap = plt.cm.jet\n",
    "i = 0\n",
    "for param in param_list:\n",
    "\n",
    "    # get the lengths in normal scale\n",
    "    length_array = np.exp(param[0:-1])\n",
    "    # get sigma\n",
    "    sigma = param[-1]\n",
    "    # create GP_kernel\n",
    "    k = create_GP_kernel(length_array, sigma)\n",
    "    # get samples from the GP on the nx * ny grid\n",
    "    try:\n",
    "        gp_sample = get_sample(input_data, k, gp_sample_size, nx, ny)\n",
    "    except:\n",
    "        continue\n",
    "    #gp_sample = get_sample(input_data, k, gp_sample_size, nx, ny)\n",
    "    # store data\n",
    "    for gp_sam in gp_sample:\n",
    "        input_raw.append(gp_sam)\n",
    "        label_data.append(param)\n",
    "        #norm_RGB = gp_data_to_RGB(gp_sam, cmap, norm)\n",
    "        #rgb_data.append(norm_RGB[:,:,0:3])\n",
    "    "
   ]
  },
  {
   "cell_type": "code",
   "execution_count": 13,
   "metadata": {},
   "outputs": [
    {
     "data": {
      "text/plain": [
       "(395, 32, 32)"
      ]
     },
     "execution_count": 13,
     "metadata": {},
     "output_type": "execute_result"
    }
   ],
   "source": [
    "input_raw = np.array(input_raw)\n",
    "input_raw.shape"
   ]
  },
  {
   "cell_type": "code",
   "execution_count": 15,
   "metadata": {},
   "outputs": [
    {
     "data": {
      "text/plain": [
       "(395, 3)"
      ]
     },
     "execution_count": 15,
     "metadata": {},
     "output_type": "execute_result"
    }
   ],
   "source": [
    "label_data = np.array(label_data)\n",
    "label_data.shape"
   ]
  },
  {
   "cell_type": "code",
   "execution_count": 16,
   "metadata": {},
   "outputs": [
    {
     "data": {
      "text/plain": [
       "<matplotlib.image.AxesImage at 0x7fa66a523e20>"
      ]
     },
     "execution_count": 16,
     "metadata": {},
     "output_type": "execute_result"
    },
    {
     "data": {
      "image/png": "[encoded data removed]",
      "text/plain": [
       "<Figure size 432x288 with 1 Axes>"
      ]
     },
     "metadata": {
      "needs_background": "light"
     },
     "output_type": "display_data"
    }
   ],
   "source": [
    "plt.imshow(input_raw[130],cmap='jet')"
   ]
  },
  {
   "cell_type": "code",
   "execution_count": 17,
   "metadata": {},
   "outputs": [
    {
     "data": {
      "text/plain": [
       "array([-2.62578014, -2.69580221,  0.67915201])"
      ]
     },
     "execution_count": 17,
     "metadata": {},
     "output_type": "execute_result"
    }
   ],
   "source": [
    "label_data[130]"
   ]
  },
  {
   "cell_type": "code",
   "execution_count": 18,
   "metadata": {},
   "outputs": [
    {
     "name": "stdout",
     "output_type": "stream",
     "text": [
      "0.58 0.93\n"
     ]
    }
   ],
   "source": [
    "print(sigma_min,sigma_max)"
   ]
  },
  {
   "cell_type": "code",
   "execution_count": 20,
   "metadata": {},
   "outputs": [],
   "source": [
    "np.savez(\"dataML_data2.npz\", label=label_data, raw_data=input_raw)"
   ]
  }
 ],
 "metadata": {
  "kernelspec": {
   "display_name": "Python 3",
   "language": "python",
   "name": "python3"
  },
  "language_info": {
   "codemirror_mode": {
    "name": "ipython",
    "version": 3
   },
   "file_extension": ".py",
   "mimetype": "text/x-python",
   "name": "python",
   "nbconvert_exporter": "python",
   "pygments_lexer": "ipython3",
   "version": "3.8.3"
  }
 },
 "nbformat": 4,
 "nbformat_minor": 5
}
