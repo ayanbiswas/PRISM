{
 "cells": [
  {
   "cell_type": "code",
   "execution_count": 1,
   "metadata": {},
   "outputs": [],
   "source": [
    "using NPZ\n",
    "using Statistics\n",
    "using PyPlot\n",
    "using Flux\n",
    "using Flux: mse\n",
    "using Random\n",
    "using Base.Iterators: partition\n",
    "using BSON"
   ]
  },
  {
   "cell_type": "code",
   "execution_count": 2,
   "metadata": {},
   "outputs": [],
   "source": [
    "mutable struct GaussianProcessDataset\n",
    "    gp\n",
    "    images\n",
    "    labels\n",
    "    transform\n",
    "end"
   ]
  },
  {
   "cell_type": "code",
   "execution_count": 3,
   "metadata": {},
   "outputs": [
    {
     "data": {
      "text/plain": [
       "initialize (generic function with 6 methods)"
      ]
     },
     "execution_count": 3,
     "metadata": {},
     "output_type": "execute_result"
    }
   ],
   "source": [
    "function initialize(gpd::GaussianProcessDataset, npz_file, rgb = false, only_len = false, only_sigma = false,\n",
    "                log_sigma = false, transform=nothing)\n",
    "    gpd.gp = npzread(npz_file)\n",
    "    \n",
    "    if rgb\n",
    "        gpd.images = Float32.(gpd.gp[\"rgb_data\"])\n",
    "    else\n",
    "        gpd.images = Float32.(gpd.gp[\"raw_data\"])# size is (9000,32,32)\n",
    "    end\n",
    "    \n",
    "    gpd.labels = Float32.(gpd.gp[\"label\"]) # size is (9000,3)\n",
    "\n",
    "    if log_sigma\n",
    "        sig = Float32.(log.(10, gpd.labels[:,3]))\n",
    "        gpd.labels[:,3] = sig\n",
    "    end\n",
    "\n",
    "    if only_len\n",
    "        gpd.labels = gpd.labels[:,1:2]\n",
    "    end\n",
    "    if only_sigma\n",
    "        gpd.labels = gpd.labels[:,3]\n",
    "    end\n",
    "\n",
    "    gpd.transform = transform\n",
    "end"
   ]
  },
  {
   "cell_type": "code",
   "execution_count": 4,
   "metadata": {},
   "outputs": [
    {
     "data": {
      "text/plain": [
       "gpd_length (generic function with 1 method)"
      ]
     },
     "execution_count": 4,
     "metadata": {},
     "output_type": "execute_result"
    }
   ],
   "source": [
    "function gpd_length(gpd::GaussianProcessDataset)\n",
    "    return size(gpd.images)[1]\n",
    "end"
   ]
  },
  {
   "cell_type": "code",
   "execution_count": 5,
   "metadata": {},
   "outputs": [
    {
     "data": {
      "text/plain": [
       "getItem (generic function with 1 method)"
      ]
     },
     "execution_count": 5,
     "metadata": {},
     "output_type": "execute_result"
    }
   ],
   "source": [
    "function getItem(gpd::GaussianProcessDataset, idx)\n",
    "    image = gpd.images[idx,:,:]\n",
    "    labels = gpd.labels[idx,:]\n",
    "    \n",
    "    image = reshape(image, (size(image)[1], size(image)[2], 1)) # [height x width, channel]\n",
    "\n",
    "    # image: W x H x C\n",
    "    image = permutedims(image, [1,2,3])  #delete once we validate that permutation is correct as is   \n",
    "\n",
    "    return Dict(\"image\"=>image, \"label\"=> labels)\n",
    "end"
   ]
  },
  {
   "cell_type": "code",
   "execution_count": null,
   "metadata": {},
   "outputs": [],
   "source": [
    "rgb = false; only_len = false; only_sigma = false; log_sigma = false;\n",
    "gp_transformed_dataset_centered = GaussianProcessDataset(nothing, nothing, nothing, nothing)\n",
    "initialize(gp_transformed_dataset_centered, \"dataSimML_32.npz\", rgb, only_len, only_sigma, log_sigma) #, false, false, false, false, nothing\n",
    "\n",
    "println(\"Length of this data set is: \" , gpd_length(gp_transformed_dataset_centered))"
   ]
  },
  {
   "cell_type": "code",
   "execution_count": null,
   "metadata": {},
   "outputs": [],
   "source": [
    "println(getItem(gp_transformed_dataset_centered, 5102)[\"label\"])"
   ]
  },
  {
   "cell_type": "code",
   "execution_count": null,
   "metadata": {},
   "outputs": [],
   "source": [
    "img = Float32.(getItem(gp_transformed_dataset_centered, 5102)[\"image\"])\n",
    "label = getItem(gp_transformed_dataset_centered, 5102)[\"label\"]\n",
    "size(img)"
   ]
  },
  {
   "cell_type": "code",
   "execution_count": null,
   "metadata": {},
   "outputs": [],
   "source": [
    "println(typeof(img), typeof(label))"
   ]
  },
  {
   "cell_type": "code",
   "execution_count": 6,
   "metadata": {},
   "outputs": [
    {
     "data": {
      "text/plain": [
       "basicCNNRegressor (generic function with 3 methods)"
      ]
     },
     "execution_count": 6,
     "metadata": {},
     "output_type": "execute_result"
    }
   ],
   "source": [
    "function basicCNNRegressor(in_channels=1, out_dims=3)\n",
    "    return Chain(\n",
    "        \n",
    "    # 1 x H x W => 32 x H x W\n",
    "    Conv((3, 3), in_channels=>32, pad=(1,1), relu),\n",
    "    # 32 x H x W => 32 x H/2 x W/2\n",
    "    MaxPool((2,2)),\n",
    "\n",
    "    # 32 x H/2 x W/2 => 16 x H/2 x W/2\n",
    "    Conv((3, 3), 32=>16, pad=(1,1), relu),\n",
    "    # 16 x H/2 x W/2 => 16 x H/4 x W/24\n",
    "    MaxPool((2,2)),\n",
    "        \n",
    "    # 16 x H/4 x W/4 => 8 x H/4 x W/4\n",
    "    Conv((3, 3), 16=>8, pad=(1,1)),\n",
    "    # 8 x H/4 x H/4 => 8 x H/4 x H/4\n",
    "    BatchNorm(8, relu),\n",
    "    # 8 x H/4 x H/4 => 8 x H/8 x W/8\n",
    "    MaxPool((2,2)),\n",
    "\n",
    "    # 1 X 128\n",
    "    flatten,\n",
    "    Dropout(0.5),\n",
    "    Dense(8*4*4, 10), #relu\n",
    "    Dense(10, out_dims)\n",
    "       \n",
    "    )\n",
    "end"
   ]
  },
  {
   "cell_type": "code",
   "execution_count": 7,
   "metadata": {},
   "outputs": [],
   "source": [
    "model = basicCNNRegressor(1, 3);"
   ]
  },
  {
   "cell_type": "code",
   "execution_count": 8,
   "metadata": {},
   "outputs": [
    {
     "data": {
      "text/plain": [
       "12"
      ]
     },
     "execution_count": 8,
     "metadata": {},
     "output_type": "execute_result"
    }
   ],
   "source": [
    "length(params(model))"
   ]
  },
  {
   "cell_type": "code",
   "execution_count": 9,
   "metadata": {},
   "outputs": [
    {
     "data": {
      "text/plain": [
       "loss_fn (generic function with 1 method)"
      ]
     },
     "execution_count": 9,
     "metadata": {},
     "output_type": "execute_result"
    }
   ],
   "source": [
    "#create a loss function\n",
    "function loss_fn(x, y, model) \n",
    "    ŷ = model(x)\n",
    "    return mse(ŷ, y)\n",
    "end"
   ]
  },
  {
   "cell_type": "code",
   "execution_count": 10,
   "metadata": {},
   "outputs": [],
   "source": [
    "mutable struct TrainValidationSampler\n",
    "    data_size\n",
    "    random_seed\n",
    "    val_split\n",
    "    shuffle\n",
    "end"
   ]
  },
  {
   "cell_type": "code",
   "execution_count": 11,
   "metadata": {},
   "outputs": [
    {
     "data": {
      "text/plain": [
       "callTVS (generic function with 1 method)"
      ]
     },
     "execution_count": 11,
     "metadata": {},
     "output_type": "execute_result"
    }
   ],
   "source": [
    "function callTVS(tvs::TrainValidationSampler)\n",
    "    indices = Vector(1:tvs.data_size)\n",
    "    split = Int(floor(tvs.val_split*tvs.data_size))\n",
    "    \n",
    "    if tvs.shuffle\n",
    "        rng = MersenneTwister(tvs.random_seed)\n",
    "        indices = shuffle(rng, indices)\n",
    "    end\n",
    "    \n",
    "    val_indices = indices[1:split]\n",
    "    \n",
    "    train_indices = indices[split+1:tvs.data_size]\n",
    "    \n",
    "    return Dict(\"train_sampler\"=>train_indices, \"val_sampler\"=> val_indices)\n",
    "end"
   ]
  },
  {
   "cell_type": "code",
   "execution_count": 12,
   "metadata": {},
   "outputs": [
    {
     "data": {
      "text/plain": [
       "get_data_loader (generic function with 1 method)"
      ]
     },
     "execution_count": 12,
     "metadata": {},
     "output_type": "execute_result"
    }
   ],
   "source": [
    "function make_minibatch(X, Y, idxs)\n",
    "    X_batch = Array{Float32}(undef, size(X[1])..., length(idxs));\n",
    "    for i in 1:length(idxs)\n",
    "        X_batch[:, :, :, i] = X[idxs[i]];\n",
    "    end\n",
    "    Y_batch = Array{Float32}(undef, size(Y[1])..., length(idxs))\n",
    "    for i in 1:length(idxs)\n",
    "        Y_batch[:,i] = Y[idxs[i]];\n",
    "    end\n",
    "\n",
    "    return (X_batch, Y_batch);\n",
    "end\n",
    "\n",
    "function get_data_loader(data_set,batch_size,sampler)\n",
    "    reshapedImages = []\n",
    "    labels = []\n",
    "    for idx in 1:gpd_length(data_set)\n",
    "        item =  getItem(data_set, idx)\n",
    "        \n",
    "        push!(reshapedImages,item[\"image\"])\n",
    "        push!(labels, item[\"label\"])\n",
    "    end\n",
    "    \n",
    "    selectedImages = [reshapedImages[i] for i in sampler]\n",
    "    selectedLabels = [labels[i] for i in sampler]\n",
    "    \n",
    "    mb_idxs = partition(1:length(selectedImages), batch_size);\n",
    "    data_set = [make_minibatch(selectedImages, selectedLabels, i) for i in mb_idxs];\n",
    "    return data_set\n",
    "end"
   ]
  },
  {
   "cell_type": "code",
   "execution_count": null,
   "metadata": {},
   "outputs": [],
   "source": [
    "function train(n_epochs, optimizer, loss_func, train_loader, val_loader)\n",
    "    \n",
    "    nn_model = basicCNNRegressor()\n",
    "    \n",
    "    function loss_fn(x, y) \n",
    "        ŷ = nn_model(x)\n",
    "        return mse(ŷ,y)\n",
    "    end\n",
    "    \n",
    "    epoch_loss_list = []\n",
    "    epoch_val_loss_list = []\n",
    "    for epoch in 1:n_epochs\n",
    "        loss_list = []\n",
    "        val_loss_list = []\n",
    "        println(\"Epoch \", epoch); flush(stdout)\n",
    "        Flux.train!(loss_fn, params(nn_model), train_loader, optimizer)\n",
    "\n",
    "        for data in train_loader\n",
    "            img = data[1]\n",
    "            labels = data[2]\n",
    "            loss = loss_fn(img, labels)\n",
    "            append!(loss_list, loss)\n",
    "        end\n",
    "\n",
    "        # Do validation\n",
    "        for data_v in val_loader\n",
    "            img = data_v[1]\n",
    "            labels = data_v[2]\n",
    "            loss = loss_fn(img, labels)\n",
    "            append!(val_loss_list, loss)\n",
    "        end\n",
    "\n",
    "        println(mean(loss_list), \" \", mean(val_loss_list))\n",
    "        append!(epoch_loss_list, mean(loss_list))\n",
    "        append!(epoch_val_loss_list, mean(val_loss_list))\n",
    "        \n",
    "    end\n",
    "    return epoch_loss_list, epoch_val_loss_list, nn_model\n",
    "end"
   ]
  },
  {
   "cell_type": "code",
   "execution_count": null,
   "metadata": {},
   "outputs": [],
   "source": [
    "batch_size = 30\n",
    "n_epochs = 150\n",
    "learning_rate = 1e-3\n",
    "# optimizer = ADAM(learning_rate);\n",
    "optimizer = Momentum(learning_rate, 0.9);\n",
    "\n",
    "sampler = TrainValidationSampler(gpd_length(gp_transformed_dataset_centered), 42, 0.2, true)\n",
    "split_sample = callTVS(sampler);\n",
    "\n",
    "train_loader = get_data_loader(gp_transformed_dataset_centered, batch_size, split_sample[\"train_sampler\"]);\n",
    "val_loader = get_data_loader(gp_transformed_dataset_centered, batch_size, split_sample[\"val_sampler\"]);"
   ]
  },
  {
   "cell_type": "code",
   "execution_count": null,
   "metadata": {},
   "outputs": [],
   "source": [
    "losses,losses_v, nn_model = train(n_epochs, optimizer, loss_fn, train_loader, val_loader)"
   ]
  },
  {
   "cell_type": "code",
   "execution_count": null,
   "metadata": {},
   "outputs": [],
   "source": [
    "using BSON: @save\n",
    "@save \"mymodel_06_2021.bson\" nn_model"
   ]
  },
  {
   "cell_type": "code",
   "execution_count": null,
   "metadata": {},
   "outputs": [],
   "source": [
    "x = 1:batch_size\n",
    "y = losses\n",
    "z = losses_v\n",
    "plot(y)\n",
    "plot(z)"
   ]
  },
  {
   "cell_type": "code",
   "execution_count": 21,
   "metadata": {},
   "outputs": [
    {
     "name": "stdout",
     "output_type": "stream",
     "text": [
      "Length of this data set is: 395\n",
      "(395, 32, 32)\n"
     ]
    },
    {
     "data": {
      "image/png": "[encoded data removed]",
      "text/plain": [
       "Figure(PyObject <Figure size 640x480 with 2 Axes>)"
      ]
     },
     "metadata": {},
     "output_type": "display_data"
    }
   ],
   "source": [
    "using BenchmarkTools\n",
    "#to test synthetic data 3 plots\n",
    "\n",
    "rgb = false; only_len = false; only_sigma = false; log_sigma = false;\n",
    "gp_ml = GaussianProcessDataset(nothing, nothing, nothing, nothing)\n",
    "#initialize(gp_ml, \"dataML_1.npz\", rgb, only_len, only_sigma, log_sigma) #, false, false, false, false, nothing\n",
    "initialize(gp_ml, \"Data2/dataML_data2.npz\", rgb, only_len, only_sigma, log_sigma) #, false, false, false, false, nothing\n",
    "\n",
    "println(\"Length of this data set is: \" , gpd_length(gp_ml))\n",
    "\n",
    "println(size(gp_ml.images))\n",
    "\n",
    "im = reshape(gp_ml.images[1:1024], 32,32)\n",
    "using PyPlot\n",
    "\n",
    "imshow((im),interpolation=\"none\")\n",
    "colorbar()\n",
    "\n",
    "sampler2 = TrainValidationSampler(gpd_length(gp_ml), 42, 1, true)\n",
    "split_sample2 = callTVS(sampler2);\n",
    "\n",
    "val_data = get_data_loader(gp_ml, gpd_length(gp_ml), split_sample2[\"val_sampler\"]);\n",
    "\n",
    "using BSON: @load\n",
    "\n",
    "# labels = val_data[1][2]\n",
    "\n",
    "@load \"mymodel_06_2021.bson\" nn_model\n",
    "\n",
    "outputs = nn_model(val_data[1][1]);"
   ]
  },
  {
   "cell_type": "code",
   "execution_count": 24,
   "metadata": {},
   "outputs": [
    {
     "data": {
      "image/png": "[encoded data removed]",
      "text/plain": [
       "Figure(PyObject <Figure size 500x500 with 1 Axes>)"
      ]
     },
     "metadata": {},
     "output_type": "display_data"
    }
   ],
   "source": [
    "using Base.MathConstants\n",
    "x0 =  val_data[1][2][1,:]\n",
    "x0 = 10 .^ (log10.(exp.(x0)))\n",
    "y0 = 10 .^ outputs[1,:]\n",
    "\n",
    "fig = figure(\"pyplot_scatterplot\",figsize=(5,5))\n",
    "plot(x0,x0,color=(.5,.5,.5), alpha=0.8, zorder=1)\n",
    "\n",
    "ax = PyPlot.axes()\n",
    "ax.grid(linewidth=0.3)\n",
    "grid(\"on\")\n",
    "ax.set_axisbelow(true)\n",
    "\n",
    "PyPlot.scatter(x0,y0,s=50,alpha=0.2, zorder=2)\n",
    "xlabel(\"MLE Correlation Lengths\")\n",
    "ylabel(\"CNN Predicted Correlation Lengths\")\n",
    "savefig(\"corlat.png\")"
   ]
  }
 ],
 "metadata": {
  "kernelspec": {
   "display_name": "Julia 1.5.3",
   "language": "julia",
   "name": "julia-1.5"
  },
  "language_info": {
   "file_extension": ".jl",
   "mimetype": "application/julia",
   "name": "julia",
   "version": "1.5.3"
  }
 },
 "nbformat": 4,
 "nbformat_minor": 2
}
